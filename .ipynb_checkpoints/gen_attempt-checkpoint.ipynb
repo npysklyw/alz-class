{
 "cells": [
  {
   "cell_type": "code",
   "execution_count": 1,
   "metadata": {
    "colab": {},
    "colab_type": "code",
    "executionInfo": {
     "elapsed": 345,
     "status": "ok",
     "timestamp": 1595843462523,
     "user": {
      "displayName": "Nicholas Pysklywec",
      "photoUrl": "https://lh3.googleusercontent.com/a-/AOh14Gg-kwjkdORlJmbhzHSArGOb5rrAZVAX7SJ9JrLrsg=s64",
      "userId": "18433264305107527039"
     },
     "user_tz": 240
    },
    "id": "HiGcV6PKHHsi"
   },
   "outputs": [
    {
     "name": "stderr",
     "output_type": "stream",
     "text": [
      "Using TensorFlow backend.\n"
     ]
    }
   ],
   "source": [
    "from keras.preprocessing.image import ImageDataGenerator\n",
    "from keras.models import Sequential\n",
    "from keras.layers import Conv2D, MaxPooling2D\n",
    "from keras.layers import Activation, Dropout, Flatten, Dense\n",
    "from keras import backend as K\n",
    "from keras.optimizers import Adam"
   ]
  },
  {
   "cell_type": "code",
   "execution_count": 13,
   "metadata": {
    "colab": {
     "base_uri": "https://localhost:8080/",
     "height": 54
    },
    "colab_type": "code",
    "executionInfo": {
     "elapsed": 888,
     "status": "ok",
     "timestamp": 1595843463849,
     "user": {
      "displayName": "Nicholas Pysklywec",
      "photoUrl": "https://lh3.googleusercontent.com/a-/AOh14Gg-kwjkdORlJmbhzHSArGOb5rrAZVAX7SJ9JrLrsg=s64",
      "userId": "18433264305107527039"
     },
     "user_tz": 240
    },
    "id": "xrXBcEQ1HfVS",
    "outputId": "9737730b-d622-4d55-e5fe-202afec6e306"
   },
   "outputs": [
    {
     "name": "stdout",
     "output_type": "stream",
     "text": [
      "Drive already mounted at /content/drive; to attempt to forcibly remount, call drive.mount(\"/content/drive\", force_remount=True).\n",
      "/content/drive/My Drive/Project\n"
     ]
    }
   ],
   "source": [
    "#ignore unless using drive\n",
    "from google.colab import drive\n",
    "drive.mount('/content/drive')\n",
    "%cd /content/drive/My\\ Drive/Project\n"
   ]
  },
  {
   "cell_type": "code",
   "execution_count": 14,
   "metadata": {
    "colab": {},
    "colab_type": "code",
    "executionInfo": {
     "elapsed": 572,
     "status": "ok",
     "timestamp": 1595843464024,
     "user": {
      "displayName": "Nicholas Pysklywec",
      "photoUrl": "https://lh3.googleusercontent.com/a-/AOh14Gg-kwjkdORlJmbhzHSArGOb5rrAZVAX7SJ9JrLrsg=s64",
      "userId": "18433264305107527039"
     },
     "user_tz": 240
    },
    "id": "sLfW3F06HHsm"
   },
   "outputs": [],
   "source": [
    "#assigning image sizes\n",
    "img_width, img_height = 150, 150"
   ]
  },
  {
   "cell_type": "code",
   "execution_count": 15,
   "metadata": {
    "colab": {},
    "colab_type": "code",
    "executionInfo": {
     "elapsed": 500,
     "status": "ok",
     "timestamp": 1595843464769,
     "user": {
      "displayName": "Nicholas Pysklywec",
      "photoUrl": "https://lh3.googleusercontent.com/a-/AOh14Gg-kwjkdORlJmbhzHSArGOb5rrAZVAX7SJ9JrLrsg=s64",
      "userId": "18433264305107527039"
     },
     "user_tz": 240
    },
    "id": "9cQtSaYwHHsr"
   },
   "outputs": [],
   "source": [
    "#setting variables for the paths\n",
    "train_data_dir = 'Alzheimer_s_Dataset/train'\n",
    "validation_data_dir = 'Alzheimer_s_Dataset/test'\n",
    "\n",
    "#choosing number of samples we will be using\n",
    "nb_train_samples = 2000\n",
    "nb_validation_samples = 800\n",
    "\n",
    "epochs = 50\n",
    "batch_size = 16"
   ]
  },
  {
   "cell_type": "code",
   "execution_count": 16,
   "metadata": {
    "colab": {},
    "colab_type": "code",
    "executionInfo": {
     "elapsed": 493,
     "status": "ok",
     "timestamp": 1595843465640,
     "user": {
      "displayName": "Nicholas Pysklywec",
      "photoUrl": "https://lh3.googleusercontent.com/a-/AOh14Gg-kwjkdORlJmbhzHSArGOb5rrAZVAX7SJ9JrLrsg=s64",
      "userId": "18433264305107527039"
     },
     "user_tz": 240
    },
    "id": "bds34cESHHsu"
   },
   "outputs": [],
   "source": [
    "if K.image_data_format() == 'channels_first':\n",
    "    input_shape = (3, img_width, img_height)\n",
    "else:\n",
    "    input_shape = (img_width, img_height, 3)"
   ]
  },
  {
   "cell_type": "code",
   "execution_count": 17,
   "metadata": {
    "colab": {},
    "colab_type": "code",
    "executionInfo": {
     "elapsed": 469,
     "status": "ok",
     "timestamp": 1595843466562,
     "user": {
      "displayName": "Nicholas Pysklywec",
      "photoUrl": "https://lh3.googleusercontent.com/a-/AOh14Gg-kwjkdORlJmbhzHSArGOb5rrAZVAX7SJ9JrLrsg=s64",
      "userId": "18433264305107527039"
     },
     "user_tz": 240
    },
    "id": "vShLQKytHHsy"
   },
   "outputs": [],
   "source": [
    "#run this cell for the smaller network\n",
    "model = Sequential()\n",
    "model.add(Conv2D(32, (3, 3), input_shape=input_shape))\n",
    "model.add(Activation('relu'))\n",
    "model.add(MaxPooling2D(pool_size=(2, 2)))\n",
    "\n",
    "model.add(Conv2D(32, (3, 3)))\n",
    "model.add(Activation('relu'))\n",
    "model.add(MaxPooling2D(pool_size=(2, 2)))\n",
    "\n",
    "model.add(Conv2D(64, (3, 3)))\n",
    "model.add(Activation('relu'))\n",
    "model.add(MaxPooling2D(pool_size=(2, 2)))\n",
    "\n",
    "model.add(Flatten())\n",
    "model.add(Dense(64))\n",
    "model.add(Activation('relu'))\n",
    "\n",
    "\n",
    "model.add(Dense(4))\n",
    "model.add(Activation('softmax'))\n",
    "\n",
    "opt = Adam(lr = 0.1)\n",
    "model.compile(loss='categorical_crossentropy',\n",
    "              optimizer=opt,\n",
    "              metrics=['accuracy'])"
   ]
  },
  {
   "cell_type": "code",
   "execution_count": 21,
   "metadata": {
    "colab": {},
    "colab_type": "code",
    "executionInfo": {
     "elapsed": 1235,
     "status": "ok",
     "timestamp": 1595845383549,
     "user": {
      "displayName": "Nicholas Pysklywec",
      "photoUrl": "https://lh3.googleusercontent.com/a-/AOh14Gg-kwjkdORlJmbhzHSArGOb5rrAZVAX7SJ9JrLrsg=s64",
      "userId": "18433264305107527039"
     },
     "user_tz": 240
    },
    "id": "1k2Aq8sXSL3N"
   },
   "outputs": [],
   "source": [
    "# run this cell to use vgg16 model\n",
    "model = Sequential()\n",
    "\n",
    "model.add(Conv2D(input_shape=input_shape,filters=64,kernel_size=(3,3),padding=\"same\", activation=\"relu\"))\n",
    "model.add(Conv2D(filters=64,kernel_size=(3,3),padding=\"same\", activation=\"relu\"))\n",
    "model.add(MaxPooling2D(pool_size=(2,2),strides=(2,2)))\n",
    "model.add(Conv2D(filters=128, kernel_size=(3,3), padding=\"same\", activation=\"relu\"))\n",
    "model.add(Conv2D(filters=128, kernel_size=(3,3), padding=\"same\", activation=\"relu\"))\n",
    "model.add(MaxPooling2D(pool_size=(2,2),strides=(2,2)))\n",
    "model.add(Conv2D(filters=256, kernel_size=(3,3), padding=\"same\", activation=\"relu\"))\n",
    "model.add(Conv2D(filters=256, kernel_size=(3,3), padding=\"same\", activation=\"relu\"))\n",
    "model.add(Conv2D(filters=256, kernel_size=(3,3), padding=\"same\", activation=\"relu\"))\n",
    "model.add(MaxPooling2D(pool_size=(2,2),strides=(2,2)))\n",
    "model.add(Conv2D(filters=512, kernel_size=(3,3), padding=\"same\", activation=\"relu\"))\n",
    "model.add(Conv2D(filters=512, kernel_size=(3,3), padding=\"same\", activation=\"relu\"))\n",
    "model.add(Conv2D(filters=512, kernel_size=(3,3), padding=\"same\", activation=\"relu\"))\n",
    "model.add(MaxPooling2D(pool_size=(2,2),strides=(2,2)))\n",
    "model.add(Conv2D(filters=512, kernel_size=(3,3), padding=\"same\", activation=\"relu\"))\n",
    "model.add(Conv2D(filters=512, kernel_size=(3,3), padding=\"same\", activation=\"relu\"))\n",
    "model.add(Conv2D(filters=512, kernel_size=(3,3), padding=\"same\", activation=\"relu\"))\n",
    "model.add(MaxPooling2D(pool_size=(2,2),strides=(2,2)))\n",
    "\n",
    "\n",
    "model.add(Flatten())\n",
    "model.add(Dense(units=4096,activation=\"relu\"))\n",
    "model.add(Dense(units=4096,activation=\"relu\"))\n",
    "model.add(Dense(units=4, activation=\"softmax\"))\n",
    "\n",
    "opt = Adam(lr = 0.01)\n",
    "model.compile(loss='categorical_crossentropy',\n",
    "              optimizer=opt,\n",
    "              metrics=['accuracy'])"
   ]
  },
  {
   "cell_type": "code",
   "execution_count": 18,
   "metadata": {
    "colab": {},
    "colab_type": "code",
    "executionInfo": {
     "elapsed": 787,
     "status": "ok",
     "timestamp": 1595843468907,
     "user": {
      "displayName": "Nicholas Pysklywec",
      "photoUrl": "https://lh3.googleusercontent.com/a-/AOh14Gg-kwjkdORlJmbhzHSArGOb5rrAZVAX7SJ9JrLrsg=s64",
      "userId": "18433264305107527039"
     },
     "user_tz": 240
    },
    "id": "nvcI_D0GHHs1"
   },
   "outputs": [],
   "source": [
    "\n",
    "train_datagen = ImageDataGenerator(\n",
    "    rescale=1. / 255,\n",
    "    shear_range=0.2,\n",
    "    zoom_range=0.2,\n",
    "    horizontal_flip=True)"
   ]
  },
  {
   "cell_type": "code",
   "execution_count": 19,
   "metadata": {
    "colab": {
     "base_uri": "https://localhost:8080/",
     "height": 54
    },
    "colab_type": "code",
    "executionInfo": {
     "elapsed": 522,
     "status": "ok",
     "timestamp": 1595843469303,
     "user": {
      "displayName": "Nicholas Pysklywec",
      "photoUrl": "https://lh3.googleusercontent.com/a-/AOh14Gg-kwjkdORlJmbhzHSArGOb5rrAZVAX7SJ9JrLrsg=s64",
      "userId": "18433264305107527039"
     },
     "user_tz": 240
    },
    "id": "UQsixgyUHHs5",
    "outputId": "c7936b9d-8f6e-4a93-8119-2fdefbdb2bdd"
   },
   "outputs": [
    {
     "name": "stdout",
     "output_type": "stream",
     "text": [
      "Found 5121 images belonging to 4 classes.\n",
      "Found 1279 images belonging to 4 classes.\n"
     ]
    }
   ],
   "source": [
    "test_datagen = ImageDataGenerator(rescale=1. / 255)\n",
    "\n",
    "train_generator = train_datagen.flow_from_directory(\n",
    "    train_data_dir,\n",
    "    target_size=(img_width, img_height),\n",
    "    batch_size=batch_size,\n",
    "    class_mode='categorical')\n",
    "\n",
    "validation_generator = test_datagen.flow_from_directory(\n",
    "    validation_data_dir,\n",
    "    target_size=(img_width, img_height),\n",
    "    batch_size=batch_size,\n",
    "    class_mode='categorical')\n"
   ]
  },
  {
   "cell_type": "code",
   "execution_count": null,
   "metadata": {
    "colab": {
     "base_uri": "https://localhost:8080/",
     "height": 90
    },
    "colab_type": "code",
    "id": "_6hBK5coIwDO",
    "outputId": "27a9b043-bc5e-4c33-b7a2-411d8cca97e3"
   },
   "outputs": [
    {
     "name": "stdout",
     "output_type": "stream",
     "text": [
      "Epoch 1/50\n",
      "125/125 [==============================] - 1849s 15s/step - loss: 108119274.9688 - accuracy: 0.4000 - val_loss: 0.9095 - val_accuracy: 0.5200\n",
      "Epoch 2/50\n",
      " 55/125 [============>.................] - ETA: 15:19 - loss: 1.0562 - accuracy: 0.4717"
     ]
    }
   ],
   "source": [
    "model.fit_generator(\n",
    "    train_generator,\n",
    "    steps_per_epoch=nb_train_samples // batch_size,\n",
    "    epochs=epochs,\n",
    "    validation_data=validation_generator,\n",
    "    validation_steps=nb_validation_samples // batch_size)\n",
    "\n",
    "model.save_weights('Saved_Weights/second_try_vgg16.h5')"
   ]
  },
  {
   "cell_type": "code",
   "execution_count": null,
   "metadata": {
    "colab": {},
    "colab_type": "code",
    "id": "bfcitLR0HHs-"
   },
   "outputs": [],
   "source": [
    "#here are the weights that I have trained\n",
    "model.load_weights('Saved_Weights/first_try.h5')"
   ]
  },
  {
   "cell_type": "code",
   "execution_count": null,
   "metadata": {
    "colab": {
     "base_uri": "https://localhost:8080/",
     "height": 51
    },
    "colab_type": "code",
    "executionInfo": {
     "elapsed": 69859,
     "status": "ok",
     "timestamp": 1595803198828,
     "user": {
      "displayName": "Nicholas Pysklywec",
      "photoUrl": "https://lh3.googleusercontent.com/a-/AOh14Gg-kwjkdORlJmbhzHSArGOb5rrAZVAX7SJ9JrLrsg=s64",
      "userId": "18433264305107527039"
     },
     "user_tz": 240
    },
    "id": "q4UcnyeKHHtB",
    "outputId": "3748d16e-627a-4987-d9f8-95f0d486720a"
   },
   "outputs": [
    {
     "name": "stdout",
     "output_type": "stream",
     "text": [
      "321/321 [==============================] - 69s 216ms/step\n"
     ]
    },
    {
     "data": {
      "text/plain": [
       "[0.6218969225883484, 0.7197812795639038]"
      ]
     },
     "execution_count": 50,
     "metadata": {
      "tags": []
     },
     "output_type": "execute_result"
    }
   ],
   "source": [
    "#returns the model loss and accuracy when used on training data\n",
    "model.evaluate(train_generator)\n"
   ]
  },
  {
   "cell_type": "code",
   "execution_count": null,
   "metadata": {
    "colab": {},
    "colab_type": "code",
    "id": "hntcZ5-LHHtE"
   },
   "outputs": [],
   "source": [
    "#model evalulation on the test data\n",
    "#more realistic as the model isn't potentially overfit to it\n",
    "model.evaluate(validation_generator)"
   ]
  },
  {
   "cell_type": "code",
   "execution_count": 24,
   "metadata": {
    "colab": {
     "base_uri": "https://localhost:8080/",
     "height": 990
    },
    "colab_type": "code",
    "executionInfo": {
     "elapsed": 413,
     "status": "ok",
     "timestamp": 1595845407676,
     "user": {
      "displayName": "Nicholas Pysklywec",
      "photoUrl": "https://lh3.googleusercontent.com/a-/AOh14Gg-kwjkdORlJmbhzHSArGOb5rrAZVAX7SJ9JrLrsg=s64",
      "userId": "18433264305107527039"
     },
     "user_tz": 240
    },
    "id": "hKI-6EmwS3Up",
    "outputId": "7e5fa48d-8085-4764-e0d9-d878c6d1efa8"
   },
   "outputs": [
    {
     "name": "stdout",
     "output_type": "stream",
     "text": [
      "Model: \"sequential_4\"\n",
      "_________________________________________________________________\n",
      "Layer (type)                 Output Shape              Param #   \n",
      "=================================================================\n",
      "conv2d_7 (Conv2D)            (None, 150, 150, 64)      1792      \n",
      "_________________________________________________________________\n",
      "conv2d_8 (Conv2D)            (None, 150, 150, 64)      36928     \n",
      "_________________________________________________________________\n",
      "max_pooling2d_7 (MaxPooling2 (None, 75, 75, 64)        0         \n",
      "_________________________________________________________________\n",
      "conv2d_9 (Conv2D)            (None, 75, 75, 128)       73856     \n",
      "_________________________________________________________________\n",
      "conv2d_10 (Conv2D)           (None, 75, 75, 128)       147584    \n",
      "_________________________________________________________________\n",
      "max_pooling2d_8 (MaxPooling2 (None, 37, 37, 128)       0         \n",
      "_________________________________________________________________\n",
      "conv2d_11 (Conv2D)           (None, 37, 37, 256)       295168    \n",
      "_________________________________________________________________\n",
      "conv2d_12 (Conv2D)           (None, 37, 37, 256)       590080    \n",
      "_________________________________________________________________\n",
      "conv2d_13 (Conv2D)           (None, 37, 37, 256)       590080    \n",
      "_________________________________________________________________\n",
      "max_pooling2d_9 (MaxPooling2 (None, 18, 18, 256)       0         \n",
      "_________________________________________________________________\n",
      "conv2d_14 (Conv2D)           (None, 18, 18, 512)       1180160   \n",
      "_________________________________________________________________\n",
      "conv2d_15 (Conv2D)           (None, 18, 18, 512)       2359808   \n",
      "_________________________________________________________________\n",
      "conv2d_16 (Conv2D)           (None, 18, 18, 512)       2359808   \n",
      "_________________________________________________________________\n",
      "max_pooling2d_10 (MaxPooling (None, 9, 9, 512)         0         \n",
      "_________________________________________________________________\n",
      "conv2d_17 (Conv2D)           (None, 9, 9, 512)         2359808   \n",
      "_________________________________________________________________\n",
      "conv2d_18 (Conv2D)           (None, 9, 9, 512)         2359808   \n",
      "_________________________________________________________________\n",
      "conv2d_19 (Conv2D)           (None, 9, 9, 512)         2359808   \n",
      "_________________________________________________________________\n",
      "max_pooling2d_11 (MaxPooling (None, 4, 4, 512)         0         \n",
      "_________________________________________________________________\n",
      "flatten_3 (Flatten)          (None, 8192)              0         \n",
      "_________________________________________________________________\n",
      "dense_5 (Dense)              (None, 4096)              33558528  \n",
      "_________________________________________________________________\n",
      "dense_6 (Dense)              (None, 4096)              16781312  \n",
      "_________________________________________________________________\n",
      "dense_7 (Dense)              (None, 4)                 16388     \n",
      "=================================================================\n",
      "Total params: 65,070,916\n",
      "Trainable params: 65,070,916\n",
      "Non-trainable params: 0\n",
      "_________________________________________________________________\n",
      "None\n"
     ]
    }
   ],
   "source": [
    "print(model.summary())"
   ]
  },
  {
   "cell_type": "code",
   "execution_count": null,
   "metadata": {
    "colab": {},
    "colab_type": "code",
    "id": "T7my5S7YzDcj"
   },
   "outputs": [],
   "source": []
  }
 ],
 "metadata": {
  "colab": {
   "name": "gen_attempt.ipynb",
   "provenance": []
  },
  "kernelspec": {
   "display_name": "Python 3",
   "language": "python",
   "name": "python3"
  },
  "language_info": {
   "codemirror_mode": {
    "name": "ipython",
    "version": 3
   },
   "file_extension": ".py",
   "mimetype": "text/x-python",
   "name": "python",
   "nbconvert_exporter": "python",
   "pygments_lexer": "ipython3",
   "version": "3.7.6"
  }
 },
 "nbformat": 4,
 "nbformat_minor": 1
}
