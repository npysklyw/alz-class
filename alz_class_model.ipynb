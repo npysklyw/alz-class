{
 "cells": [
  {
   "cell_type": "code",
   "execution_count": 63,
   "metadata": {},
   "outputs": [],
   "source": [
    "import tensorflow as tf\n",
    "\n",
    "from tensorflow.keras.preprocessing.image import ImageDataGenerator\n",
    "from tensorflow.keras.models import Sequential,Model\n",
    "from tensorflow.keras.layers import Dense, Conv2D, Flatten,Dropout,Input\n",
    "import pickle"
   ]
  },
  {
   "cell_type": "code",
   "execution_count": 14,
   "metadata": {},
   "outputs": [
    {
     "name": "stdout",
     "output_type": "stream",
     "text": [
      "Found 5121 images belonging to 4 classes.\n",
      "Found 1279 images belonging to 4 classes.\n"
     ]
    }
   ],
   "source": [
    "datagen = ImageDataGenerator(rescale=1./255,fill_mode='constant',cval=0,data_format='channels_last')                                              \n",
    "\n",
    "train_gen = datagen.flow_from_directory('AlzheimerDataset/train',class_mode='categorical',batch_size=16,target_size=(178,208))\n",
    "\n",
    "test_gen = datagen.flow_from_directory('AlzheimerDataset/test',class_mode='categorical',batch_size=16,target_size=(178,208))"
   ]
  },
  {
   "cell_type": "code",
   "execution_count": 53,
   "metadata": {},
   "outputs": [],
   "source": [
    "train_data,train_labels =  train_gen.next()\n",
    "test_data,test_labels = test_gen.next()"
   ]
  },
  {
   "cell_type": "code",
   "execution_count": 54,
   "metadata": {},
   "outputs": [
    {
     "name": "stdout",
     "output_type": "stream",
     "text": [
      "Model: \"functional_29\"\n",
      "_________________________________________________________________\n",
      "Layer (type)                 Output Shape              Param #   \n",
      "=================================================================\n",
      "image_input (InputLayer)     [(None, 178, 200, 3)]     0         \n",
      "_________________________________________________________________\n",
      "block1_conv1 (Conv2D)        (None, 178, 200, 64)      1792      \n",
      "_________________________________________________________________\n",
      "block1_conv2 (Conv2D)        (None, 178, 200, 64)      36928     \n",
      "_________________________________________________________________\n",
      "block1_pool (MaxPooling2D)   (None, 89, 100, 64)       0         \n",
      "_________________________________________________________________\n",
      "block2_conv1 (Conv2D)        (None, 89, 100, 128)      73856     \n",
      "_________________________________________________________________\n",
      "block2_conv2 (Conv2D)        (None, 89, 100, 128)      147584    \n",
      "_________________________________________________________________\n",
      "block2_pool (MaxPooling2D)   (None, 44, 50, 128)       0         \n",
      "_________________________________________________________________\n",
      "block3_conv1 (Conv2D)        (None, 44, 50, 256)       295168    \n",
      "_________________________________________________________________\n",
      "block3_conv2 (Conv2D)        (None, 44, 50, 256)       590080    \n",
      "_________________________________________________________________\n",
      "block3_conv3 (Conv2D)        (None, 44, 50, 256)       590080    \n",
      "_________________________________________________________________\n",
      "block3_pool (MaxPooling2D)   (None, 22, 25, 256)       0         \n",
      "_________________________________________________________________\n",
      "block4_conv1 (Conv2D)        (None, 22, 25, 512)       1180160   \n",
      "_________________________________________________________________\n",
      "block4_conv2 (Conv2D)        (None, 22, 25, 512)       2359808   \n",
      "_________________________________________________________________\n",
      "block4_conv3 (Conv2D)        (None, 22, 25, 512)       2359808   \n",
      "_________________________________________________________________\n",
      "block4_pool (MaxPooling2D)   (None, 11, 12, 512)       0         \n",
      "_________________________________________________________________\n",
      "block5_conv1 (Conv2D)        (None, 11, 12, 512)       2359808   \n",
      "_________________________________________________________________\n",
      "block5_conv2 (Conv2D)        (None, 11, 12, 512)       2359808   \n",
      "_________________________________________________________________\n",
      "block5_conv3 (Conv2D)        (None, 11, 12, 512)       2359808   \n",
      "_________________________________________________________________\n",
      "block5_pool (MaxPooling2D)   (None, 5, 6, 512)         0         \n",
      "_________________________________________________________________\n",
      "global_max_pooling2d_23 (Glo (None, 512)               0         \n",
      "_________________________________________________________________\n",
      "flatten_22 (Flatten)         (None, 512)               0         \n",
      "_________________________________________________________________\n",
      "dense_38 (Dense)             (None, 1024)              525312    \n",
      "_________________________________________________________________\n",
      "dropout_19 (Dropout)         (None, 1024)              0         \n",
      "_________________________________________________________________\n",
      "dense_39 (Dense)             (None, 4)                 4100      \n",
      "=================================================================\n",
      "Total params: 15,244,100\n",
      "Trainable params: 15,244,100\n",
      "Non-trainable params: 0\n",
      "_________________________________________________________________\n"
     ]
    }
   ],
   "source": [
    "#Making our own input tensor based on our image shape\n",
    "input = Input(shape=(178,200,3),name = 'image_input')\n",
    "\n",
    "#Using pretrained weights to help speed up training, only involves convolutional layers\n",
    "model = tf.keras.applications.vgg16.VGG16(include_top=False,input_tensor=input, pooling = 'max') #added pooling\n",
    "\n",
    "#Don't allow training \n",
    "model.trainable = True\n",
    "\n",
    "#Create our fully connected structure\n",
    "flatten_l = Flatten()(model.output)\n",
    "fully_connected_one = Dense(1024,activation='relu', kernel_initializer='he_uniform')(flatten_l) \n",
    "dropout_one_fc = Dropout(0.25)(fully_connected_one)                                                   \n",
    "output = Dense(4,activation='softmax')(dropout_one_fc)   \n",
    "\n",
    "#Put our pretrained and custom model parts together\n",
    "final = Model(inputs=model.inputs, outputs=output)\n",
    "\n",
    "#Print a summary to look at model structure\n",
    "final.summary()\n",
    "\n",
    "#Use weights we already trained, comment out if you want to train it by yourself\n",
    "final.load_weights('val20_epochs50.h5')"
   ]
  },
  {
   "cell_type": "code",
   "execution_count": 55,
   "metadata": {},
   "outputs": [],
   "source": [
    "#Use the scochastic gradient descent optimizer\n",
    "opt = tf.keras.optimizers.SGD(learning_rate=0.0001, momentum=.9, nesterov=True,name='SGD') \n",
    "\n",
    "#Compile our model \n",
    "final.compile(optimizer=opt, loss=tf.keras.losses.categorical_crossentropy, metrics=['accuracy'])"
   ]
  },
  {
   "cell_type": "code",
   "execution_count": 61,
   "metadata": {},
   "outputs": [],
   "source": [
    "#Training model\n",
    "#final.fit(train_data,train_labels,validation_data=(test_data,test_labels),epochs=5,batch_size=8,shuffle=True)\n",
    "\n",
    "#Saving the weights so I can load them later if I want\n",
    "final.save_weights('nick_attempt_4.h5')\n",
    "\n"
   ]
  },
  {
   "cell_type": "code",
   "execution_count": 57,
   "metadata": {},
   "outputs": [
    {
     "name": "stdout",
     "output_type": "stream",
     "text": [
      "WARNING:tensorflow:Model was constructed with shape (None, 178, 200, 3) for input Tensor(\"image_input_18:0\", shape=(None, 178, 200, 3), dtype=float32), but it was called on an input with incompatible shape (None, 178, 208, 3).\n",
      "WARNING:tensorflow:Model was constructed with shape (None, 178, 200, 3) for input Tensor(\"image_input_18:0\", shape=(None, 178, 200, 3), dtype=float32), but it was called on an input with incompatible shape (None, 178, 208, 3).\n",
      "1/1 [==============================] - 0s 2ms/step - loss: 1.2099e-05 - accuracy: 1.0000\n"
     ]
    },
    {
     "data": {
      "text/plain": [
       "[1.209928814205341e-05, 1.0]"
      ]
     },
     "execution_count": 57,
     "metadata": {},
     "output_type": "execute_result"
    }
   ],
   "source": [
    "#Check performance of model\n",
    "final.evaluate(test_data,test_labels)"
   ]
  },
  {
   "cell_type": "code",
   "execution_count": 73,
   "metadata": {},
   "outputs": [],
   "source": [
    "final.save('model_one.h5')"
   ]
  },
  {
   "cell_type": "code",
   "execution_count": null,
   "metadata": {},
   "outputs": [],
   "source": []
  }
 ],
 "metadata": {
  "kernelspec": {
   "display_name": "Python 3",
   "language": "python",
   "name": "python3"
  },
  "language_info": {
   "codemirror_mode": {
    "name": "ipython",
    "version": 3
   },
   "file_extension": ".py",
   "mimetype": "text/x-python",
   "name": "python",
   "nbconvert_exporter": "python",
   "pygments_lexer": "ipython3",
   "version": "3.7.6"
  }
 },
 "nbformat": 4,
 "nbformat_minor": 4
}
